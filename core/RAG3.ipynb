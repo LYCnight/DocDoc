{
 "cells": [
  {
   "cell_type": "code",
   "execution_count": 1,
   "metadata": {},
   "outputs": [
    {
     "name": "stdout",
     "output_type": "stream",
     "text": [
      "['/root/AI4E/lzd/DocDoc/core', '/root/anaconda3/envs/DocDoc2/lib/python310.zip', '/root/anaconda3/envs/DocDoc2/lib/python3.10', '/root/anaconda3/envs/DocDoc2/lib/python3.10/lib-dynload', '', '/root/anaconda3/envs/DocDoc2/lib/python3.10/site-packages', '/root/AI4E/lzd/DocDoc/core', '/root/AI4E/lzd/DocDoc']\n"
     ]
    },
    {
     "name": "stderr",
     "output_type": "stream",
     "text": [
      "/root/anaconda3/envs/DocDoc2/lib/python3.10/site-packages/tqdm/auto.py:21: TqdmWarning: IProgress not found. Please update jupyter and ipywidgets. See https://ipywidgets.readthedocs.io/en/stable/user_install.html\n",
      "  from .autonotebook import tqdm as notebook_tqdm\n"
     ]
    },
    {
     "name": "stdout",
     "output_type": "stream",
     "text": [
      "LLM is explicitly disabled. Using MockLLM.\n"
     ]
    }
   ],
   "source": [
    "from pathlib import Path\t\t\n",
    "import sys\n",
    "root_path = \"/root/AI4E/lzd/DocDoc\"\n",
    "cur_path = \"/root/AI4E/lzd/DocDoc/core\"    # 当前目录    DocDoc2/core\n",
    "sys.path.append(str(cur_path))\n",
    "sys.path.append(str(root_path))\n",
    "print(sys.path)\n",
    "\n",
    "# 本地 embedding\n",
    "from config import EMBED_DEVICE, LLM_DEVICE\n",
    "device = LLM_DEVICE\n",
    "embed_device = EMBED_DEVICE\n",
    "from llama_index.embeddings.huggingface import HuggingFaceEmbedding\n",
    "embed_model = HuggingFaceEmbedding(model_name=\"/root/AI4E/share/bge-large-zh\", device=embed_device)\n",
    "\n",
    "# 全局设置\n",
    "from llama_index.core import Settings\n",
    "Settings.embed_model = embed_model\n",
    "Settings.llm = None\n",
    "\n",
    "\n",
    "from llama_index.core import (\n",
    "    load_index_from_storage,\n",
    "    StorageContext,\n",
    ")\n",
    "\n",
    "# load index from disk\n",
    "from llama_index.vector_stores.faiss import FaissVectorStore\n",
    "vector_store = FaissVectorStore.from_persist_dir(\"/root/AI4E/lzd/DocDoc/core/storage\")\n",
    "storage_context = StorageContext.from_defaults(\n",
    "    vector_store=vector_store, persist_dir=\"/root/AI4E/lzd/DocDoc/core/storage\"\n",
    ")\n",
    "index = load_index_from_storage(storage_context=storage_context)\n",
    "query_engine = index.as_query_engine()\n",
    "\n"
   ]
  },
  {
   "cell_type": "code",
   "execution_count": 4,
   "metadata": {},
   "outputs": [
    {
     "name": "stdout",
     "output_type": "stream",
     "text": [
      "**********\n",
      "岳飞（1103年3月24日—1142年1月27日） ，字鹏举，宋朝相州汤阴（今河南省汤阴县）\n",
      "人。南宋时期抗金名将、军事家、战略家、民族英雄 、书法家、诗人，位列南宋 “中兴四将 ”\n",
      "之首。  \n",
      "岳飞从二十岁起，曾先后四次从军。自建炎二年（ 1128年）遇宗泽至绍兴十一年（ 1141年）\n",
      "止，先后参与、指挥大小战斗数百次。金军攻打江南时，独树一帜，力主抗金，收复建康。\n",
      "绍兴四年（ 1134年） ，收复襄阳六郡。绍兴六年（ 1136年） ，率师北伐，顺利攻取商州、虢\n",
      "州等地。绍兴十年（ 1140年） ，完颜宗弼毁盟攻宋，岳飞挥师北伐，两河人民奔走相告，各\n",
      "地义军纷纷响应，夹击金军。岳家军先后收复郑州、洛阳等地，在郾城、颍昌大败金军，进\n",
      "军朱仙镇。宋高宗赵构和宰相秦桧却一意求和，以十二道 “金字牌”催令班师。在宋金议和过\n",
      "程中，岳飞 遭受秦桧、张俊等人诬陷入狱。 1142年1月，以莫须有的罪名，与长子岳云、\n",
      "部将张宪一同遇害。 宋孝宗时， 平反昭雪， 改葬于西湖畔栖霞岭， 追谥武穆， 后又追谥忠武，\n",
      "封鄂王。   \n",
      "岳飞是南宋杰出的统帅，他重视人民抗金力量，缔造了“连结河朔”之谋，主张黄河以北的民\n",
      "间抗金义军和宋军互相配合，以收复失地；治军赏罚分明，纪律严整，又能体恤部属，以身\n",
      "作则， 率领的“岳家军”号称“冻死不拆屋， 饿死不掳掠 ”。 金军有“撼山易， 撼岳家军难 ”的评语，\n",
      "以示对岳家军的由衷敬佩。  \n",
      "岳飞的文才同样卓越，其代表词作《满江红·怒发冲冠》 是千古传诵的爱国名篇，后人辑有文\n",
      "集传世。\n",
      "0.5859308838844299\n",
      "**********\n",
      "（4）哺乳类  \n",
      "新墙河湿地公园共发现哺乳类动物 9种，隶属于 2目4科，群落结构如下：\n",
      "啮齿目，仓鼠科 1种、鼠科 4种；食肉目，鼬科 3种、猫科 1种。\n",
      "0.7205613851547241\n"
     ]
    }
   ],
   "source": [
    "# set Logging to DEBUG for more detailed outputs\n",
    "response = query_engine.retrieve(\"岳飞的代表作是？\")\n",
    "for r in response:\n",
    "    print(\"*\"*10)\n",
    "    print(r.get_text())\n",
    "    print(r.get_score())"
   ]
  },
  {
   "cell_type": "code",
   "execution_count": 5,
   "metadata": {},
   "outputs": [
    {
     "name": "stdout",
     "output_type": "stream",
     "text": [
      "**********\n",
      "2 —2018）中 “ 6环境空气\n",
      "质量现状调查与评价 ”内容，首先需要项目所在区域环境质量达标情况，作为项\n",
      "目所在区域是否为达标区的判断依据。并且根据导则 “ 5.5 依据评价所需环境空\n",
      "气质量现状、气象资料等数据的可获得性、数量质量、代表性等因素，选择近  3\n",
      "年中数据相对完整的 1个日历年作为评价基准年 ”的内容，本项目筛选的评价基\n",
      "准年为 2019年。  \n",
      "本项目收集了岳阳县空气自动监测站 2019年1月至 2019年12月全年 12\n",
      "个月的空气环境质量监测数据，经过统计 得2019年岳阳县空气环境质量监测数\n",
      "0.47388002276420593\n",
      "**********\n",
      "岳阳县水系连通及农村水系综合整治工程建设项目环境影响报告书  \n",
      " 31 Coi——一般选用 GB 3095 中1h平均质量浓度的二级浓度限值，如项目位于\n",
      "一类环境空气功能区， 应选择相应的一级浓度限值； 对该标准中未包含的污染物，\n",
      "使用《环境影响评价技术导则大气环境》 (HJ2.2 -2018) 5.2确定的各评价因子 1 h \n",
      "平均质量浓度限值。对仅有 8h平均质量浓度限值、日平均质量浓度限值或年平\n",
      "均质量浓度限值的，可分别按 2倍、 3倍、 6倍折算为 1h平均质量浓度限值。  \n",
      "评价等级的划分方法见表 1.5-2。 \n",
      "表1.5-2  评价工作等级分级依据  \n",
      "评价工作等级  评价工作分级判据  \n",
      "一级  Pmax≥10%  \n",
      "二级  1%≤P max＜10% \n",
      "三级  Pmax＜1% \n",
      "（2）评价等级确定  \n",
      "根据生态型项目的特点，工程对大气环境的影响主要是施工引起的，而运营\n",
      "期则无明显影响。本项目主体工程分块分时序进行施工，其污染物排放量及排放\n",
      "浓度均具有不稳定性，难以进行估算。工程施工期大气污染物主要为土方开挖引\n",
      "起的粉尘、运输中产生的扬尘、施工机械车辆排放的尾气、清淤废气等，污染物\n",
      "主要是  TSP、SO 2、CO、氨、硫化氢等，废气排放量较小，施工期活动结束后，\n",
      "污染因素随着消失，运营期大气环境影响 基本忽略 。本项目部分工程内容位于东\n",
      "洞庭湖自然保护区内，自然保护区内的工程评价区属于环境空气质量一类功能\n",
      "区，环境空气质量评价标准执行《环境空气质量标准》 (GB3095 -2012)一级标准 。\n",
      "根据《环境影响评价技术导则  大气环境》（ HJ2.2 -2018）要求， 施工期大气环\n",
      "境评价工作等级定为 二级。  \n",
      "（3）评价范围  \n",
      "大气环境影响评价范围 为主体工程及临建工程周边 200m范围内。 \n",
      "1.5.3地下水环境  \n",
      "（1）评价工作等级  \n",
      "根据《环境影响评价技术导则 —地下水环境》 (HJ 610 -2016)，评价等级划分\n",
      "见表 1.5-3，地下水环境影响评价行业分类表见表 1.5-4。\n",
      "0.47635960578918457\n"
     ]
    }
   ],
   "source": [
    "response = query_engine.retrieve(\"环境空气\")\n",
    "len(response)\n",
    "for r in response:\n",
    "    print(\"*\"*10)\n",
    "    print(r.get_text())\n",
    "    print(r.get_score())"
   ]
  },
  {
   "cell_type": "code",
   "execution_count": 6,
   "metadata": {},
   "outputs": [
    {
     "name": "stdout",
     "output_type": "stream",
     "text": [
      "**********\n",
      "2001 -2002年，北京大学先后组建成立了政府管理学院、新闻与传播学院、物理学\n",
      "院、地球与空间科学学院、环境学院、信息科学技术学院、软件学院、对外汉语教育学\n",
      "院。 \n",
      "2002年2月，时任北大计算机科学技术研究所所长、北大方正技术研究院院长 王选\n",
      "院士获得 2001年度国家最高科学技术奖 ，他是中国现代印刷革命的奠基人，被人们誉为\n",
      "“当代毕升”。 \n",
      "2014年5月，北大启动 “燕京学堂 ”项目，为来自中国海内外一流大学的学生开设的一\n",
      "年制“中国学”硕士学位。 9月3日，《北京大学章程 》正式核准、生效。 [98] \n",
      "2015年10月，北大校友 屠呦呦因发现了 青蒿素而获得诺贝尔生理学或医学奖 。 \n",
      "2016年1月5日，发布首次自主设计的北大学位证书，于 2016年1月起正式启\n",
      "用。5月，北京大学心理学系 更名为北京大学心理与认知科学学院 。7月5日，北京大学\n",
      "与莫斯科国立大学签署了《关于成立中华人民共和国与俄罗斯联邦综合性大学联盟的共同\n",
      "宣言》，倡议成立 中俄综合性大学联盟 。 [90]8月29日，学校与 深圳市人民政府 签署合作\n",
      "举办北京大学深圳校区 备忘录。 9月20日，北京大学人文社会科学研究院 正式揭牌。  \n",
      "2017年2月20日，学校与 英国开放大学 正式签约，创办 北京大学汇丰商学院牛津校\n",
      "区，成立北京大学牛津中心 和深圳市牛津创新中心 。3月，大数据分析与应用技术国家工\n",
      "程实验室 揭牌。 9月，入选国家 “双一流”建设高校。 12月，北京大学习近平新时代中国特\n",
      "色社会主义思想研究院 成立。 12月13日，北京大学现代农学院 成立。  \n",
      "2018年4月，入选首批 学位授权自主审核单位 。5月4日，北京大学在邱德拔体育\n",
      "馆召开建校 120周年纪念大会。 [1] [3-4] [6]10月24日，北京大学牵头组建了 医学“双一流”建\n",
      "设联盟，是首个非官方非盈利性医学高等教育与医学学科建设协作组织。 [108-109] \n",
      "2019年2月，北京大学与 香港大学 签署合作协议书，合办法学双学士学位课程 [53]；\n",
      "同月，北京大学与 香港中文大学 签署合作协议，在 “语言学”及“中国语言及文学 ”领域合办本\n",
      "科双学位项目 [51-52]。\n",
      "0.5160624980926514\n",
      "**********\n",
      "• 北京大学 ——建国后至 “文革”前（1949—1966） \n",
      "1949年底，北大教育系并入 北京师范大学 。 \n",
      "1950年3月，毛泽东同志应北京大学师生的请求为北京大学题写了校徽。 [136]1952\n",
      "年，政府仿效 苏联高等院校进行 院系调整 ，清华大学 、燕京大学 的文理科的部分师资并入\n",
      "北京大学；北京大学、清华大学、 华北大学 三校的农学校合并为 北京农业大学 ；北大工学\n",
      "院并入清华大学；北大医学院独立为 北京医学院 ；北大地质学系与清华大学等校有关系\n",
      "科，组建了 北京地质学院 ；北大学法律学系并入 北京政法学院 。院系调整后的北京大学迁\n",
      "校址于原燕京大学校址，原来北大、清华、燕大三校的自然科学、人文学科学者云集北\n",
      "大，奠定了北京大学文理两科的扎实基础。  \n",
      "院系调整后，北大在 1954年重建法律系， 1956年重建图书馆学系， 1960年重建政\n",
      "治学系。  \n",
      "1954年，北京大学入选全国重点高等学校。 [99] \n",
      "1955年，为了尽快建立中国的 核工业体系，北大建立了全国第一个原子能人才培养\n",
      "基地——物理研究室（技术物理系前身）。此外，北大在中国最早培养 半导体专业人才，\n",
      "并在中国 计算机研究起步阶段就办了计算机学习班。据 1966年的统计，北大时有在校生\n",
      "近九千人，这期间北大培养的毕业生有百余人后来成为 中国科学院 、工程院院士；北大也\n",
      "取得了一系列科研成果，如人工合成 结晶牛胰岛素 等；1955年中国科学院首批 223名学\n",
      "部委员中，北大在任教师有 28人，居中国高校之首。  \n",
      "由于政治活动频繁，人文社科研究受到干扰。校长 马寅初的《新人口论 》被视为此阶\n",
      "段北大最突出的人文社科研究成果，但文章发表后就遭到了批判。 1957年反右运动中，北\n",
      "大七百余名师生被错划为 右派。1961年，党中央提出 “调整、巩固、充实、提高 ”方针，开\n",
      "始纠正各种失误，同年整顿高校工作，提高了北京大学的教学质量。  \n",
      "1965年3月起，北京大学开始在陕西汉中建设新的校区（时称 “653工程”）。 \n",
      "• 北京大学 ——“文化大革命 ”期间（ 1966—1976） \n",
      "1966年5月16日，中共中央下发 “五一六通知 ”，文化大革命 拉开帷幕。\n",
      "0.5821509957313538\n"
     ]
    }
   ],
   "source": [
    "response = query_engine.retrieve(\"北大有心理学吗\")\n",
    "len(response)\n",
    "for r in response:\n",
    "    print(\"*\"*10)\n",
    "    print(r.get_text())\n",
    "    print(r.get_score())"
   ]
  },
  {
   "cell_type": "markdown",
   "metadata": {},
   "source": [
    "## 多重 index"
   ]
  },
  {
   "cell_type": "code",
   "execution_count": 61,
   "metadata": {},
   "outputs": [],
   "source": [
    "from pathlib import Path\t\t\n",
    "import sys\n",
    "root_path = \"/root/AI4E/lzd/DocDoc\"\n",
    "cur_path = \"/root/AI4E/lzd/DocDoc/core\"    # 当前目录    DocDoc2/core\n",
    "sys.path.append(str(cur_path))\n",
    "sys.path.append(str(root_path))\n",
    "print(sys.path)\n",
    "\n",
    "# 本地 embedding\n",
    "from config import EMBED_DEVICE, LLM_DEVICE\n",
    "device = LLM_DEVICE\n",
    "embed_device = EMBED_DEVICE\n",
    "from llama_index.embeddings.huggingface import HuggingFaceEmbedding\n",
    "embed_model = HuggingFaceEmbedding(model_name=\"/root/AI4E/share/bge-large-zh\", device=embed_device)\n",
    "\n",
    "# 全局设置\n",
    "from llama_index.core import Settings\n",
    "Settings.embed_model = embed_model\n",
    "Settings.llm = None"
   ]
  },
  {
   "cell_type": "code",
   "execution_count": 133,
   "metadata": {},
   "outputs": [],
   "source": [
    "from llama_index.core import (\n",
    "    load_index_from_storage,\n",
    "    StorageContext,\n",
    ")\n",
    "\n",
    "# load index from disk\n",
    "from llama_index.vector_stores.faiss import FaissVectorStore\n",
    "vector_store = FaissVectorStore.from_persist_dir(\"/root/AI4E/lzd/DocDoc/core/storage\")\n",
    "storage_context = StorageContext.from_defaults(\n",
    "    vector_store=vector_store, persist_dir=\"/root/AI4E/lzd/DocDoc/core/storage\"\n",
    ")"
   ]
  },
  {
   "cell_type": "code",
   "execution_count": 134,
   "metadata": {},
   "outputs": [],
   "source": [
    "from llama_index.core import (\n",
    "    load_index_from_storage,\n",
    "    load_indices_from_storage,\n",
    "    load_graph_from_storage,\n",
    ")\n",
    "# load multiple indices\n",
    "indices = load_indices_from_storage(storage_context)  # loads all indices"
   ]
  },
  {
   "cell_type": "code",
   "execution_count": 135,
   "metadata": {},
   "outputs": [
    {
     "data": {
      "text/plain": [
       "'b7aa5fa0-1d3f-4452-b39d-f7307a2d8011'"
      ]
     },
     "execution_count": 135,
     "metadata": {},
     "output_type": "execute_result"
    }
   ],
   "source": [
    "indices[0].index_id"
   ]
  },
  {
   "cell_type": "code",
   "execution_count": 136,
   "metadata": {},
   "outputs": [
    {
     "data": {
      "text/plain": [
       "'0a94e8b2-1f6f-48cc-a0ca-5c73f5a00c77'"
      ]
     },
     "execution_count": 136,
     "metadata": {},
     "output_type": "execute_result"
    }
   ],
   "source": [
    "indices[1].index_id"
   ]
  },
  {
   "cell_type": "code",
   "execution_count": 145,
   "metadata": {},
   "outputs": [
    {
     "ename": "AttributeError",
     "evalue": "'list' object has no attribute 'as_retriever'",
     "output_type": "error",
     "traceback": [
      "\u001b[0;31m---------------------------------------------------------------------------\u001b[0m",
      "\u001b[0;31mAttributeError\u001b[0m                            Traceback (most recent call last)",
      "Cell \u001b[0;32mIn[145], line 1\u001b[0m\n\u001b[0;32m----> 1\u001b[0m retriver \u001b[38;5;241m=\u001b[39m \u001b[43mindices\u001b[49m\u001b[38;5;241;43m.\u001b[39;49m\u001b[43mas_retriever\u001b[49m()\n\u001b[1;32m      2\u001b[0m response \u001b[38;5;241m=\u001b[39m retriver\u001b[38;5;241m.\u001b[39mretrieve(\u001b[38;5;124m\"\u001b[39m\u001b[38;5;124m北大有心理学吗\u001b[39m\u001b[38;5;124m\"\u001b[39m)\n",
      "\u001b[0;31mAttributeError\u001b[0m: 'list' object has no attribute 'as_retriever'"
     ]
    }
   ],
   "source": [
    "retriver = indices.as_retriever()\n",
    "response = retriver.retrieve(\"北大有心理学吗\")"
   ]
  },
  {
   "cell_type": "code",
   "execution_count": 144,
   "metadata": {},
   "outputs": [],
   "source": [
    "query_engine = retriver = indices[0].as_query_engine()\n",
    "# response = query_engine.retrieve(\"北大有心理学吗\")\n",
    "# len(response)\n",
    "# for r in response:\n",
    "#     print(\"*\"*10)\n",
    "#     print(r.get_text())\n",
    "#     print(r.get_score())"
   ]
  },
  {
   "cell_type": "code",
   "execution_count": null,
   "metadata": {},
   "outputs": [],
   "source": []
  }
 ],
 "metadata": {
  "kernelspec": {
   "display_name": "DocDoc2",
   "language": "python",
   "name": "python3"
  },
  "language_info": {
   "codemirror_mode": {
    "name": "ipython",
    "version": 3
   },
   "file_extension": ".py",
   "mimetype": "text/x-python",
   "name": "python",
   "nbconvert_exporter": "python",
   "pygments_lexer": "ipython3",
   "version": "3.10.14"
  }
 },
 "nbformat": 4,
 "nbformat_minor": 2
}
